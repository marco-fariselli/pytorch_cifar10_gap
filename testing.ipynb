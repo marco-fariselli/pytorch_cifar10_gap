{
 "cells": [
  {
   "cell_type": "code",
   "execution_count": null,
   "metadata": {},
   "outputs": [],
   "source": [
    "import numpy as np\n",
    "from nntool.api import NNGraph\n",
    "from nntool.api.utils import quantization_options, model_settings\n"
   ]
  },
  {
   "cell_type": "code",
   "execution_count": null,
   "metadata": {},
   "outputs": [],
   "source": [
    "\n",
    "def representative_dataset():\n",
    "    yield np.random.uniform(-1, 1, (3, 32, 32))"
   ]
  },
  {
   "cell_type": "code",
   "execution_count": null,
   "metadata": {},
   "outputs": [],
   "source": [
    "\n",
    "G = NNGraph.load_graph(\"checkpoint/shufflenet.onnx\", load_quantization=False)\n",
    "#G.draw(filepath=\"draw\", view=True)\n",
    "max_activ_size, total_params = G.total_memory_usage\n",
    "ops = G.total_ops\n",
    "\n",
    "print(f\"{G.name}:\")\n",
    "print(f\"\\tMax Active Size:\\t{max_activ_size} elements\")\n",
    "print(f\"\\tTotal # Parameters:\\t{total_params} elements\")\n",
    "print(f\"\\tTotal # Operations:\\t{ops / 1e6:.2f} MOps\")\n",
    "G.adjust_order()\n",
    "G.fusions('scaled_match_group')\n",
    "# G.draw()\n",
    "\n",
    "print(\"Calibrating...\")\n",
    "stats = G.collect_statistics(representative_dataset())\n",
    "# G.quantize(graph_options=quantization_options(scheme=\"FLOAT\", float_type=\"bfloat16\"))\n",
    "G.quantize(\n",
    "    statistics=stats,\n",
    "    graph_options={\n",
    "        'use_ne16': False,\n",
    "        'hwc': True\n",
    "    },\n",
    ")"
   ]
  },
  {
   "cell_type": "code",
   "execution_count": null,
   "metadata": {},
   "outputs": [],
   "source": [
    "\n",
    "# Autotiler options: make the autotiler allocate the input of the network and reuse that space after the first layer\n",
    "# more L2 for the rest of the network\n",
    "G[0].at_options.allocate = 1\n",
    "cal_input = np.random.uniform(-1, 1, (32, 32, 3))\n",
    "# cal_input = np.random.uniform(-1, 1, (3, 32, 32))\n",
    "qout = G.execute([cal_input], quantize=True, dequantize=False)\n"
   ]
  },
  {
   "cell_type": "code",
   "execution_count": null,
   "metadata": {},
   "outputs": [],
   "source": [
    "res = G.execute_on_target(\n",
    "    platform=\"gvsoc\",\n",
    "    directory=\"test_run2\",\n",
    "    input_tensors=qout[0],\n",
    "    check_on_target=True,\n",
    "    print_output=True,\n",
    "    do_clean=False,\n",
    "    output_tensors=4,\n",
    "    settings=model_settings(\n",
    "        l1_size=128000,\n",
    "        l2_size=1200000, \n",
    "        tensor_directory='./tensors',\n",
    "        graph_const_exec_from_flash=True,\n",
    "        graph_dump_tensor=4,\n",
    "        graph_dump_tensor_to_file=True\n",
    "    ),\n",
    "    at_loglevel=1,\n",
    ")\n"
   ]
  },
  {
   "cell_type": "code",
   "execution_count": null,
   "metadata": {},
   "outputs": [],
   "source": [
    "G.dict_qsnrs(qout, res.output_tensors)"
   ]
  },
  {
   "cell_type": "code",
   "execution_count": null,
   "metadata": {},
   "outputs": [],
   "source": [
    "G.draw(quant_labels=True)"
   ]
  },
  {
   "cell_type": "code",
   "execution_count": null,
   "metadata": {},
   "outputs": [],
   "source": []
  }
 ],
 "metadata": {
  "kernelspec": {
   "display_name": "nntool",
   "language": "python",
   "name": "python3"
  },
  "language_info": {
   "codemirror_mode": {
    "name": "ipython",
    "version": 3
   },
   "file_extension": ".py",
   "mimetype": "text/x-python",
   "name": "python",
   "nbconvert_exporter": "python",
   "pygments_lexer": "ipython3",
   "version": "3.10.9"
  }
 },
 "nbformat": 4,
 "nbformat_minor": 2
}
